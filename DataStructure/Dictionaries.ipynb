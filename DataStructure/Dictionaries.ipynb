{
 "cells": [
  {
   "cell_type": "markdown",
   "metadata": {},
   "source": [
    "Dictionaries\n",
    "Video Outline:\n",
    "\n",
    "Introduction to Dictionaries\n",
    "Creating Dictionaries\n",
    "Accessing Dictionary Elements\n",
    "Modifying Dictionary Elements\n",
    "Dictionary Methods\n",
    "Iterating Over Dictionaries\n",
    "Nested Dictionaries\n",
    "Dictionary Comprehensions\n",
    "Practical Examples and Common Errors\n",
    "Introduction to Dictionaries\n",
    "Dictionaries are unordered collections of items. They store data in key-value pairs. Keys must be unique and immutable (e.g., strings, numbers, or tuples), while values can be of any type."
   ]
  },
  {
   "cell_type": "code",
   "execution_count": 1,
   "metadata": {},
   "outputs": [
    {
     "name": "stdout",
     "output_type": "stream",
     "text": [
      "{}\n"
     ]
    }
   ],
   "source": [
    "## Creation Dictionaries\n",
    "empty_disc={}\n",
    "print(empty_disc)"
   ]
  },
  {
   "cell_type": "code",
   "execution_count": 2,
   "metadata": {},
   "outputs": [
    {
     "name": "stdout",
     "output_type": "stream",
     "text": [
      "{'name': 'Shashnk ', 'age': 32, 'grade': 100}\n"
     ]
    }
   ],
   "source": [
    "student={\"name\": \"Shashnk \", \"age\":32,\"grade\":100}\n",
    "print(student)"
   ]
  },
  {
   "cell_type": "code",
   "execution_count": 3,
   "metadata": {},
   "outputs": [
    {
     "name": "stdout",
     "output_type": "stream",
     "text": [
      "{'name': 'Shashnk ', 'age': 100}\n"
     ]
    }
   ],
   "source": [
    "## Error\n",
    "## Single key is used \n",
    "student={\"name\": \"Shashnk \", \"age\":32,\"age\":100}\n",
    "print(student)"
   ]
  },
  {
   "cell_type": "code",
   "execution_count": 6,
   "metadata": {},
   "outputs": [
    {
     "name": "stdout",
     "output_type": "stream",
     "text": [
      "A\n"
     ]
    }
   ],
   "source": [
    "## Accessing dictionary items\n",
    "\n",
    "student={\"name\": \"Shashnk \", \"age\":32,\"grade\":\"A\"}\n",
    "student['grade']\n",
    "student['age']\n",
    "\n",
    "## Accessing using get(method)\n",
    "\n",
    "print(student.get('grade'))"
   ]
  },
  {
   "cell_type": "code",
   "execution_count": 7,
   "metadata": {},
   "outputs": [
    {
     "name": "stdout",
     "output_type": "stream",
     "text": [
      "{'name': 'Shashnk ', 'age': 32, 'grade': 'A'}\n"
     ]
    }
   ],
   "source": [
    "## Modify Dictionary elements\n",
    "\n",
    "## Dictionary are mutable , so you can add or delete elmetns\n",
    "\n",
    "print(student)"
   ]
  },
  {
   "cell_type": "code",
   "execution_count": 10,
   "metadata": {},
   "outputs": [
    {
     "name": "stdout",
     "output_type": "stream",
     "text": [
      "{'name': 'Shashnk ', 'age': 33, 'grade': 'A', 'address': 'India'}\n"
     ]
    }
   ],
   "source": [
    "student['age']=33 ## Update the value of the key\n",
    "student[\"address\"]=\"India\"\n",
    "print(student)"
   ]
  },
  {
   "cell_type": "code",
   "execution_count": 11,
   "metadata": {},
   "outputs": [
    {
     "name": "stdout",
     "output_type": "stream",
     "text": [
      "{'name': 'Shashnk ', 'age': 33, 'grade': 'A', 'address': 'India'}\n"
     ]
    }
   ],
   "source": [
    "## Modify Dictionary Elements\n",
    "## Dictionary are mutable, so you can, ipdate or delete elements\n",
    "print(student)"
   ]
  },
  {
   "cell_type": "code",
   "execution_count": 16,
   "metadata": {},
   "outputs": [
    {
     "name": "stdout",
     "output_type": "stream",
     "text": [
      "dict_keys(['name', 'age', 'grade', 'address'])\n",
      "dict_values(['Shashnk ', 33, 'A', 'India'])\n"
     ]
    }
   ],
   "source": [
    "## Dictionary methods\n",
    "\n",
    "key=student.keys()\n",
    "print(key)\n",
    "values=student.values()\n",
    "print(values)"
   ]
  },
  {
   "cell_type": "code",
   "execution_count": 18,
   "metadata": {},
   "outputs": [
    {
     "name": "stdout",
     "output_type": "stream",
     "text": [
      "{'name': 'Shashnk ', 'age': 33, 'grade': 'A', 'address': 'India'}\n"
     ]
    }
   ],
   "source": [
    "## shallow copy\n",
    "\n",
    "student_copy=student\n",
    "print(student_copy)"
   ]
  },
  {
   "cell_type": "code",
   "execution_count": 19,
   "metadata": {},
   "outputs": [
    {
     "name": "stdout",
     "output_type": "stream",
     "text": [
      "{'name': 'Shivam', 'age': 33, 'grade': 'A', 'address': 'India'}\n",
      "{'name': 'Shivam', 'age': 33, 'grade': 'A', 'address': 'India'}\n"
     ]
    }
   ],
   "source": [
    "student[\"name\"]=\"Shivam\"\n",
    "print(student_copy)\n",
    "print(student) ## same update for both copy"
   ]
  },
  {
   "cell_type": "code",
   "execution_count": 21,
   "metadata": {},
   "outputs": [
    {
     "name": "stdout",
     "output_type": "stream",
     "text": [
      "{'name': 'Shivam', 'age': 33, 'grade': 'A', 'address': 'India'}\n",
      "{'name': 'King', 'age': 33, 'grade': 'A', 'address': 'India'}\n"
     ]
    }
   ],
   "source": [
    "student_copy1=student.copy()\n",
    "student[\"name\"]=\"King\"\n",
    "print(student_copy1)\n",
    "print(student)"
   ]
  },
  {
   "cell_type": "code",
   "execution_count": 22,
   "metadata": {},
   "outputs": [
    {
     "name": "stdout",
     "output_type": "stream",
     "text": [
      "name\n",
      "age\n",
      "grade\n",
      "address\n"
     ]
    }
   ],
   "source": [
    "## Iteratng over dictionary\n",
    "## we can use loops to iterate over dictionary\n",
    "\n",
    "for keys in student.keys():\n",
    "    print(keys)\n"
   ]
  },
  {
   "cell_type": "code",
   "execution_count": 23,
   "metadata": {},
   "outputs": [
    {
     "name": "stdout",
     "output_type": "stream",
     "text": [
      "address\n",
      "address\n",
      "address\n",
      "address\n"
     ]
    }
   ],
   "source": [
    "for values in student.keys():\n",
    "    print(keys)"
   ]
  },
  {
   "cell_type": "code",
   "execution_count": 24,
   "metadata": {},
   "outputs": [
    {
     "name": "stdout",
     "output_type": "stream",
     "text": [
      "{'student1': {'name': 'Krish', 'age': 32}, 'student2': {'name': 'Peter', 'age': 35}}\n"
     ]
    }
   ],
   "source": [
    "## nested Dictionaries\n",
    "students={\n",
    "    \"student1\":{\"name\":\"Krish\",\"age\":32},\n",
    "    \"student2\":{\"name\":\"Peter\",\"age\":35}\n",
    "}\n",
    "print(students)"
   ]
  },
  {
   "cell_type": "code",
   "execution_count": 25,
   "metadata": {},
   "outputs": [
    {
     "name": "stdout",
     "output_type": "stream",
     "text": [
      "Peter\n",
      "35\n"
     ]
    }
   ],
   "source": [
    "## Access nested dictionaries elementss\n",
    "print(students[\"student2\"][\"name\"])\n",
    "print(students[\"student2\"][\"age\"])"
   ]
  },
  {
   "cell_type": "code",
   "execution_count": 27,
   "metadata": {},
   "outputs": [
    {
     "data": {
      "text/plain": [
       "dict_items([('name', 'King'), ('age', 33), ('grade', 'A'), ('address', 'India')])"
      ]
     },
     "execution_count": 27,
     "metadata": {},
     "output_type": "execute_result"
    }
   ],
   "source": [
    "student.items()"
   ]
  },
  {
   "cell_type": "code",
   "execution_count": 28,
   "metadata": {},
   "outputs": [
    {
     "name": "stdout",
     "output_type": "stream",
     "text": [
      "student1:{'name': 'Krish', 'age': 32}\n",
      "name:Krish\n",
      "age:32\n",
      "student2:{'name': 'Peter', 'age': 35}\n",
      "name:Peter\n",
      "age:35\n"
     ]
    }
   ],
   "source": [
    "## Iterating over nested dictionaries\n",
    "for student_id,student_info in students.items():\n",
    "    print(f\"{student_id}:{student_info}\")\n",
    "    for key,value in student_info.items():\n",
    "        print(f\"{key}:{value}\")"
   ]
  },
  {
   "cell_type": "code",
   "execution_count": 29,
   "metadata": {},
   "outputs": [
    {
     "name": "stdout",
     "output_type": "stream",
     "text": [
      "{0: 0, 1: 1, 2: 4, 3: 9, 4: 16}\n"
     ]
    }
   ],
   "source": [
    "## Dictionary Comphrehension\n",
    "squares={x:x**2 for x in range(5)}\n",
    "print(squares)"
   ]
  },
  {
   "cell_type": "code",
   "execution_count": 30,
   "metadata": {},
   "outputs": [
    {
     "name": "stdout",
     "output_type": "stream",
     "text": [
      "{1: 1, 2: 2, 3: 3, 4: 4}\n"
     ]
    }
   ],
   "source": [
    " ## Practical Examples\n",
    "\n",
    "## USe a dictionary to count he frequency of elements in list\n",
    "\n",
    "numbers=[1,2,2,3,3,3,4,4,4,4]\n",
    "frequency={}\n",
    "\n",
    "for number in numbers:\n",
    "    if number in frequency:\n",
    "        frequency[number]+=1\n",
    "    else:\n",
    "        frequency[number]=1\n",
    "print(frequency)"
   ]
  },
  {
   "cell_type": "code",
   "execution_count": 31,
   "metadata": {},
   "outputs": [
    {
     "name": "stdout",
     "output_type": "stream",
     "text": [
      "{'a': 1, 'b': 3, 'c': 4}\n"
     ]
    }
   ],
   "source": [
    "## Merge 2 dictionaries into one\n",
    "\n",
    "dict1={\"a\":1,\"b\":2}\n",
    "dict2={\"b\":3,\"c\":4}\n",
    "merged_dict={**dict1,**dict2}\n",
    "print(merged_dict)"
   ]
  },
  {
   "cell_type": "markdown",
   "metadata": {},
   "source": [
    "\n",
    "Conclusion\n",
    "Dictionaries are powerful tools in Python for managing key-value pairs. They are used in a variety of real-world scenarios, such as counting word frequency, grouping data, storing configuration settings, managing phonebooks, tracking inventory, and caching results. Understanding how to leverage dictionaries effectively can greatly enhance the efficiency and readability of your code."
   ]
  },
  {
   "cell_type": "code",
   "execution_count": null,
   "metadata": {},
   "outputs": [],
   "source": []
  }
 ],
 "metadata": {
  "kernelspec": {
   "display_name": "base",
   "language": "python",
   "name": "python3"
  },
  "language_info": {
   "codemirror_mode": {
    "name": "ipython",
    "version": 3
   },
   "file_extension": ".py",
   "mimetype": "text/x-python",
   "name": "python",
   "nbconvert_exporter": "python",
   "pygments_lexer": "ipython3",
   "version": "3.11.5"
  }
 },
 "nbformat": 4,
 "nbformat_minor": 2
}
