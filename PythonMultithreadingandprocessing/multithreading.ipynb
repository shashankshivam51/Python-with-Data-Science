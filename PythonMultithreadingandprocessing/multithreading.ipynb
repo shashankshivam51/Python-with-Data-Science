{
 "cells": [
  {
   "cell_type": "code",
   "execution_count": 16,
   "metadata": {},
   "outputs": [
    {
     "name": "stdout",
     "output_type": "stream",
     "text": [
      " Number : 0 Number : 0\n",
      "\n",
      " Number : 1\n",
      " Number : 1\n",
      " Number : 2 Number : 2\n",
      "\n",
      " Number : 3 Number : 3\n",
      "\n",
      " Number : 4 Number : 4\n",
      "\n",
      " Letter : a\n",
      " Letter : b\n",
      " Letter : c\n",
      " Letter : d\n",
      " Letter : e\n",
      "15.009001731872559\n"
     ]
    }
   ],
   "source": [
    "### Multithreading\n",
    "## When to use Multi Threading\n",
    "###I/O-bound tasks: Tasks that spend more time waiting for I/O operations (e.g., file operations, network requests).\n",
    "###  Concurrent execution: When you want to improve the throughput of your application by performing multiple operations concurrently.\n",
    "\n",
    "import threading\n",
    "import time\n",
    "def print_numbers():\n",
    "    for i in range(5):\n",
    "        time.sleep(1)\n",
    "        print(f\" Number : {i}\")\n",
    "        # print(f\"\\n\")\n",
    "def print_letters():\n",
    "    for letter in \"abcde\":\n",
    "        print(f\" Letter : {letter}\")\n",
    "        time.sleep(2)\n",
    "## crate 2 threads\n",
    "t1=threading.Thread(target=print_numbers)\n",
    "t2=threading.Thread(target=print_letters)\n",
    "t=time.time()\n",
    "# start the thread\n",
    "t1.start()\n",
    "print_numbers()\n",
    "print_letters()\n",
    "finished_time=time.time()-t\n",
    "print(finished_time)"
   ]
  },
  {
   "cell_type": "code",
   "execution_count": null,
   "metadata": {},
   "outputs": [],
   "source": []
  }
 ],
 "metadata": {
  "kernelspec": {
   "display_name": "base",
   "language": "python",
   "name": "python3"
  },
  "language_info": {
   "codemirror_mode": {
    "name": "ipython",
    "version": 3
   },
   "file_extension": ".py",
   "mimetype": "text/x-python",
   "name": "python",
   "nbconvert_exporter": "python",
   "pygments_lexer": "ipython3",
   "version": "3.11.5"
  }
 },
 "nbformat": 4,
 "nbformat_minor": 2
}
