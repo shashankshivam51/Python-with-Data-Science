{
 "cells": [
  {
   "cell_type": "code",
   "execution_count": 1,
   "metadata": {},
   "outputs": [],
   "source": [
    "## PRocesses that run in parallel\n",
    "### CPU-Bound Tasks-Tasks that are heavy on CPU usage (e.g., mathematical computations, data processing).\n",
    "## PArallel execution- Multiple cores of the CPU"
   ]
  },
  {
   "cell_type": "code",
   "execution_count": 2,
   "metadata": {},
   "outputs": [
    {
     "name": "stdout",
     "output_type": "stream",
     "text": [
      "0.1388077735900879\n"
     ]
    }
   ],
   "source": [
    "## PRocesses that run in parallel\n",
    "### CPU-Bound Tasks-Tasks that are heavy on CPU usage (e.g., mathematical computations, data processing).\n",
    "## PArallel execution- Multiple cores of the CPU\n",
    "\n",
    "import multiprocessing\n",
    "\n",
    "import time\n",
    "\n",
    "def square_numbers():\n",
    "    for i in range(5):\n",
    "        time.sleep(1)\n",
    "        print(f\"Square: {i*i}\")\n",
    "\n",
    "def cube_numbers():\n",
    "    for i in range(5):\n",
    "        time.sleep(1.5)\n",
    "        print(f\"Cube: {i * i * i}\")\n",
    "\n",
    "if __name__==\"__main__\":\n",
    "\n",
    "    ## create 2 processes\n",
    "    p1=multiprocessing.Process(target=square_numbers)\n",
    "    p2=multiprocessing.Process(target=cube_numbers)\n",
    "    t=time.time()\n",
    "\n",
    "    ## start the process\n",
    "    p1.start()\n",
    "    p2.start()\n",
    "\n",
    "    ## Wait for the process to complete\n",
    "    p1.join()\n",
    "    p2.join()\n",
    "\n",
    "    finished_time=time.time()-t\n",
    "    print(finished_time)"
   ]
  },
  {
   "cell_type": "code",
   "execution_count": null,
   "metadata": {},
   "outputs": [],
   "source": []
  }
 ],
 "metadata": {
  "kernelspec": {
   "display_name": "base",
   "language": "python",
   "name": "python3"
  },
  "language_info": {
   "codemirror_mode": {
    "name": "ipython",
    "version": 3
   },
   "file_extension": ".py",
   "mimetype": "text/x-python",
   "name": "python",
   "nbconvert_exporter": "python",
   "pygments_lexer": "ipython3",
   "version": "3.11.5"
  }
 },
 "nbformat": 4,
 "nbformat_minor": 2
}
