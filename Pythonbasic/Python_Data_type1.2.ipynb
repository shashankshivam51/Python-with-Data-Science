{
 "cells": [
  {
   "cell_type": "markdown",
   "metadata": {},
   "source": [
    "DataTypes\n",
    "1. Definition:\n",
    "Data types are a classification of data which tell the compiler or interpreter how the programmer intends to use the data.\n",
    "They determine the type of operations that can be performed on the data, the values that the data can take, and the amount of memory needed to store the data.\n",
    "2. Importance of Data Types in Programming\n",
    "Explanation:\n",
    "\n",
    "Data types ensure that data is stored in an efficient way.\n",
    "They help in performing correct operations on data.\n",
    "Proper use of data types can prevent errors and bugs in the program.\n",
    "Video Outline:\n",
    "\n",
    "Introduction to Data Types\n",
    "Importance of Data Types in Programming\n",
    "Basic Data Types\n",
    "Integers\n",
    "Floating-point numbers\n",
    "Strings\n",
    "Booleans\n",
    "Advanced Data Types\n",
    "Lists\n",
    "Tuples\n",
    "Sets\n",
    "Dictionaries\n",
    "Type Conversion\n",
    "Practical Examples"
   ]
  },
  {
   "cell_type": "code",
   "execution_count": 1,
   "metadata": {},
   "outputs": [
    {
     "data": {
      "text/plain": [
       "int"
      ]
     },
     "execution_count": 1,
     "metadata": {},
     "output_type": "execute_result"
    }
   ],
   "source": [
    "## Integer Example\n",
    "age = 35\n",
    "type(age)"
   ]
  },
  {
   "cell_type": "code",
   "execution_count": 3,
   "metadata": {},
   "outputs": [
    {
     "name": "stdout",
     "output_type": "stream",
     "text": [
      "5.2\n",
      "<class 'float'>\n"
     ]
    }
   ],
   "source": [
    "##float point data type\n",
    "width=5.2\n",
    "print(width)\n",
    "print(type(width))"
   ]
  },
  {
   "cell_type": "code",
   "execution_count": 5,
   "metadata": {},
   "outputs": [
    {
     "name": "stdout",
     "output_type": "stream",
     "text": [
      "<class 'str'>\n"
     ]
    }
   ],
   "source": [
    "name=\"Shashank\"\n",
    "print(type(name))"
   ]
  },
  {
   "cell_type": "code",
   "execution_count": 8,
   "metadata": {},
   "outputs": [
    {
     "data": {
      "text/plain": [
       "bool"
      ]
     },
     "execution_count": 8,
     "metadata": {},
     "output_type": "execute_result"
    }
   ],
   "source": [
    "is_true=bool()\n",
    "type(is_true)"
   ]
  },
  {
   "cell_type": "code",
   "execution_count": 13,
   "metadata": {},
   "outputs": [
    {
     "name": "stdout",
     "output_type": "stream",
     "text": [
      "Hell05\n"
     ]
    }
   ],
   "source": [
    "#common errors that we may face\n",
    "\n",
    "result=\"Hell0\"+str(5)\n",
    "print(result)\n",
    "##result=\"Hell0\"+5\n"
   ]
  },
  {
   "cell_type": "code",
   "execution_count": 15,
   "metadata": {},
   "outputs": [],
   "source": [
    "name=int(input(\"Enter the age\"))"
   ]
  },
  {
   "cell_type": "code",
   "execution_count": null,
   "metadata": {},
   "outputs": [],
   "source": []
  }
 ],
 "metadata": {
  "kernelspec": {
   "display_name": "base",
   "language": "python",
   "name": "python3"
  },
  "language_info": {
   "codemirror_mode": {
    "name": "ipython",
    "version": 3
   },
   "file_extension": ".py",
   "mimetype": "text/x-python",
   "name": "python",
   "nbconvert_exporter": "python",
   "pygments_lexer": "ipython3",
   "version": "3.11.5"
  }
 },
 "nbformat": 4,
 "nbformat_minor": 2
}
