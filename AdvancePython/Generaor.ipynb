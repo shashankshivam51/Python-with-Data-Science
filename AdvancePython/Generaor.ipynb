{
 "cells": [
  {
   "cell_type": "markdown",
   "metadata": {},
   "source": [
    "## Generators\n",
    "Generators are a simpler way to create iterators. They use the yield keyword to produce a series of values lazily, which means they generate values on the fly and do not store them in memory."
   ]
  },
  {
   "cell_type": "code",
   "execution_count": 8,
   "metadata": {},
   "outputs": [],
   "source": [
    "def square(n):\n",
    "    for i in range(3):\n",
    "        yield i**2"
   ]
  },
  {
   "cell_type": "code",
   "execution_count": 9,
   "metadata": {},
   "outputs": [
    {
     "data": {
      "text/plain": [
       "<generator object square at 0x0000028F8D4FCAD0>"
      ]
     },
     "execution_count": 9,
     "metadata": {},
     "output_type": "execute_result"
    }
   ],
   "source": [
    "square(20)"
   ]
  },
  {
   "cell_type": "code",
   "execution_count": 10,
   "metadata": {},
   "outputs": [
    {
     "name": "stdout",
     "output_type": "stream",
     "text": [
      "0\n",
      "1\n",
      "4\n"
     ]
    }
   ],
   "source": [
    "for i in square (3):\n",
    "    print(i)"
   ]
  },
  {
   "cell_type": "code",
   "execution_count": 11,
   "metadata": {},
   "outputs": [],
   "source": [
    "def my_generator():\n",
    "    yield 1\n",
    "    yield 2\n",
    "    yield 3"
   ]
  },
  {
   "cell_type": "code",
   "execution_count": 12,
   "metadata": {},
   "outputs": [
    {
     "data": {
      "text/plain": [
       "<generator object my_generator at 0x0000028F8D14A770>"
      ]
     },
     "execution_count": 12,
     "metadata": {},
     "output_type": "execute_result"
    }
   ],
   "source": [
    "gen=my_generator()\n",
    "gen"
   ]
  },
  {
   "cell_type": "code",
   "execution_count": 13,
   "metadata": {},
   "outputs": [
    {
     "name": "stdout",
     "output_type": "stream",
     "text": [
      "1\n",
      "2\n",
      "3\n"
     ]
    }
   ],
   "source": [
    "for val in gen:\n",
    "    print(val)"
   ]
  },
  {
   "cell_type": "code",
   "execution_count": 14,
   "metadata": {},
   "outputs": [],
   "source": [
    "### Practical : Reading LArge Files\n",
    "\n",
    "def read_large_file(file_path):\n",
    "    with open(file_path,'r') as file:\n",
    "        for line in file:\n",
    "            yield line"
   ]
  },
  {
   "cell_type": "code",
   "execution_count": 15,
   "metadata": {},
   "outputs": [
    {
     "name": "stdout",
     "output_type": "stream",
     "text": [
      "To,\n",
      "Mr /Mrs\n",
      "Shashank Shivam C/O UNION BANK OF INDIA\n",
      "MOB- +91-790302XXX\n",
      "EMAIL-SHASHANKSHIVAM@GMAIL.COM\n",
      "Date –: 03-07-2024\n",
      "Dear Sir/Madam,\n",
      "Re : Quota*on iDes*ny Patna 220523008 iDesOny is an Apple Premium Reseller in east India\n",
      "(Please visit www.iDesOny.in for more details) and is a brand managed by CS Trade Link Pvt Ltd\n",
      "(Please visit www.csgroup.in for more details). We cater specifically to business consumers,\n",
      "offering a wide array of Apple products and related services. Please find enclosed our formal\n",
      "quotaOon as per your requirement dated\n",
      "Model MRP AMOUNT CGST SGST\n",
      "\n",
      "Effec*ve\n",
      "Price\n",
      "\n",
      "IPAD AIR 13\n",
      "INCH 128GB\n",
      "WIFI\n",
      "\n",
      "79900 67711 6094.07 6094.07 79900\n",
      "\n",
      "For warranty & claims please refer to hIp://www.apple.com/legal/warranty.\n",
      "Payment to be made in Cash/Card/NEFT/RTGS in advance before delivery\n",
      "Bank Details : CS Trade Link Pvt Ltd\n",
      "A/C No. 33105147259\n",
      "Standard Chartered Bank\n",
      "IFSC Code - SCBL0036008\n",
      "Branch - N.S. Road, Kolkata – 700001\n",
      "Please Provide GST number to avail GST input at the [me of issuance of invoice\n",
      "Thanking you,\n",
      "Sushant Shekhar\n",
      "9122012842\n",
      "\n",
      "CS Trade Link Pvt Ltd\n",
      "\n",
      "100/6 Alipore Road | Kolkata 7000 27 | Ph : 033 2448 3027 | GST 19AADCC6379C1ZK\n",
      "Regd Office : CS Towers | 3A Camac Street | Kolkata 700 016 | CIN : U52390WB2009PTC134446\n"
     ]
    }
   ],
   "source": [
    "file_path='large_file.txt'\n",
    "\n",
    "for line in read_large_file(file_path):\n",
    "    print(line.strip())"
   ]
  },
  {
   "cell_type": "code",
   "execution_count": null,
   "metadata": {},
   "outputs": [],
   "source": []
  }
 ],
 "metadata": {
  "kernelspec": {
   "display_name": "base",
   "language": "python",
   "name": "python3"
  },
  "language_info": {
   "codemirror_mode": {
    "name": "ipython",
    "version": 3
   },
   "file_extension": ".py",
   "mimetype": "text/x-python",
   "name": "python",
   "nbconvert_exporter": "python",
   "pygments_lexer": "ipython3",
   "version": "3.11.5"
  }
 },
 "nbformat": 4,
 "nbformat_minor": 2
}
